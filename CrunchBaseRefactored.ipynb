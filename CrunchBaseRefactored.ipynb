{
  "nbformat": 4,
  "nbformat_minor": 0,
  "metadata": {
    "colab": {
      "name": "CrunchBaseRefactored.ipynb",
      "provenance": [],
      "collapsed_sections": []
    },
    "kernelspec": {
      "name": "python3",
      "display_name": "Python 3"
    }
  },
  "cells": [
    {
      "cell_type": "markdown",
      "metadata": {
        "id": "nes0w1R--KUh"
      },
      "source": [
        "# Crunchbase \n",
        "In this notebook I will work with data from crunchbase dataset and check few hypotheses.\n",
        "\n",
        "Data in crunchbase dataset is changing daily. To avoid any discrepancies in results, I will use data fixed on 09.09.2020"
      ]
    },
    {
      "cell_type": "markdown",
      "metadata": {
        "id": "daqhGUZzKUV9"
      },
      "source": [
        "##1. Data preprocessing"
      ]
    },
    {
      "cell_type": "markdown",
      "metadata": {
        "id": "1FavLxP4NA09"
      },
      "source": [
        "####1.1 Import the required libraries\n"
      ]
    },
    {
      "cell_type": "code",
      "metadata": {
        "id": "JZSyde1qf3Qi",
        "colab": {
          "base_uri": "https://localhost:8080/"
        },
        "outputId": "c6e3a27b-6059-4e24-eabd-58fa786989b1"
      },
      "source": [
        "!pip install plot-metric"
      ],
      "execution_count": null,
      "outputs": [
        {
          "output_type": "stream",
          "text": [
            "Collecting plot-metric\n",
            "  Downloading https://files.pythonhosted.org/packages/95/2a/dae5d81116c8226c7fdbd711460ea568ac87420cd447cf219524695646c2/plot_metric-0.0.6-py3-none-any.whl\n",
            "Requirement already satisfied: scikit-learn>=0.21.2 in /usr/local/lib/python3.6/dist-packages (from plot-metric) (0.22.2.post1)\n",
            "Requirement already satisfied: colorlover>=0.3.0 in /usr/local/lib/python3.6/dist-packages (from plot-metric) (0.3.0)\n",
            "Requirement already satisfied: pandas>=0.23.4 in /usr/local/lib/python3.6/dist-packages (from plot-metric) (1.1.3)\n",
            "Requirement already satisfied: seaborn>=0.9.0 in /usr/local/lib/python3.6/dist-packages (from plot-metric) (0.11.0)\n",
            "Requirement already satisfied: scipy>=1.1.0 in /usr/local/lib/python3.6/dist-packages (from plot-metric) (1.4.1)\n",
            "Requirement already satisfied: numpy>=1.15.4 in /usr/local/lib/python3.6/dist-packages (from plot-metric) (1.18.5)\n",
            "Requirement already satisfied: matplotlib>=3.0.2 in /usr/local/lib/python3.6/dist-packages (from plot-metric) (3.2.2)\n",
            "Requirement already satisfied: joblib>=0.11 in /usr/local/lib/python3.6/dist-packages (from scikit-learn>=0.21.2->plot-metric) (0.17.0)\n",
            "Requirement already satisfied: python-dateutil>=2.7.3 in /usr/local/lib/python3.6/dist-packages (from pandas>=0.23.4->plot-metric) (2.8.1)\n",
            "Requirement already satisfied: pytz>=2017.2 in /usr/local/lib/python3.6/dist-packages (from pandas>=0.23.4->plot-metric) (2018.9)\n",
            "Requirement already satisfied: pyparsing!=2.0.4,!=2.1.2,!=2.1.6,>=2.0.1 in /usr/local/lib/python3.6/dist-packages (from matplotlib>=3.0.2->plot-metric) (2.4.7)\n",
            "Requirement already satisfied: kiwisolver>=1.0.1 in /usr/local/lib/python3.6/dist-packages (from matplotlib>=3.0.2->plot-metric) (1.2.0)\n",
            "Requirement already satisfied: cycler>=0.10 in /usr/local/lib/python3.6/dist-packages (from matplotlib>=3.0.2->plot-metric) (0.10.0)\n",
            "Requirement already satisfied: six>=1.5 in /usr/local/lib/python3.6/dist-packages (from python-dateutil>=2.7.3->pandas>=0.23.4->plot-metric) (1.15.0)\n",
            "Installing collected packages: plot-metric\n",
            "Successfully installed plot-metric-0.0.6\n"
          ],
          "name": "stdout"
        }
      ]
    },
    {
      "cell_type": "code",
      "metadata": {
        "id": "gZwd63YANGmm"
      },
      "source": [
        "import math\n",
        "import pandas as pd\n",
        "import numpy as np\n",
        "import xgboost as xgb\n",
        "from sklearn.model_selection import train_test_split\n",
        "from sklearn.metrics import mean_squared_error\n",
        "from sklearn.metrics import r2_score\n",
        "from sklearn.svm import SVC\n",
        "from sklearn.metrics import roc_auc_score\n",
        "from sklearn.metrics import precision_recall_curve \n",
        "from sklearn.metrics import plot_precision_recall_curve\n",
        "from sklearn.metrics import average_precision_score \n",
        "from sklearn.metrics import auc \n",
        "from sklearn.preprocessing import StandardScaler\n",
        "from matplotlib import colors\n",
        "from matplotlib.ticker import PercentFormatter\n",
        "import matplotlib.pyplot as plt\n",
        "from sklearn.metrics import roc_curve, auc\n",
        "from plot_metric.functions import BinaryClassification\n"
      ],
      "execution_count": null,
      "outputs": []
    },
    {
      "cell_type": "markdown",
      "metadata": {
        "id": "zsItCIESMhJT"
      },
      "source": [
        "####1.2 Move the archived data from the cloud to the current folder and unzip it"
      ]
    },
    {
      "cell_type": "code",
      "metadata": {
        "id": "0siz2SOZMw6d"
      },
      "source": [
        "!cp drive/My\\ Drive/bulk_export.tar.gz .\n"
      ],
      "execution_count": null,
      "outputs": []
    },
    {
      "cell_type": "code",
      "metadata": {
        "id": "GlK1yJY0PNCE",
        "colab": {
          "base_uri": "https://localhost:8080/"
        },
        "outputId": "456c9d2f-c7a5-4fa0-c403-ccde7b500d86"
      },
      "source": [
        "!tar -zxvf bulk_export.tar.gz"
      ],
      "execution_count": null,
      "outputs": [
        {
          "output_type": "stream",
          "text": [
            "category_groups.csv\n",
            "funds.csv\n",
            "org_parents.csv\n",
            "events.csv\n",
            "ipos.csv\n",
            "investment_partners.csv\n",
            "acquisitions.csv\n",
            "investors.csv\n",
            "degrees.csv\n",
            "funding_rounds.csv\n",
            "event_appearances.csv\n",
            "people_descriptions.csv\n",
            "investments.csv\n",
            "organization_descriptions.csv\n",
            "people.csv\n",
            "jobs.csv\n",
            "organizations.csv\n",
            "checksum.csv\n"
          ],
          "name": "stdout"
        }
      ]
    },
    {
      "cell_type": "markdown",
      "metadata": {
        "id": "B1N3KyEBTmLe"
      },
      "source": [
        "####1.3 Read csv tables\n"
      ]
    },
    {
      "cell_type": "code",
      "metadata": {
        "id": "-cfTJUVET_BY"
      },
      "source": [
        "category_groups           = pd.read_csv('category_groups.csv')\n",
        "funds                     = pd.read_csv('funds.csv')\n",
        "org_parents               = pd.read_csv('org_parents.csv')\n",
        "events                    = pd.read_csv('events.csv')\n",
        "ipos                      = pd.read_csv('ipos.csv')\n",
        "investment_partners       = pd.read_csv('investment_partners.csv')\n",
        "acquisitions              = pd.read_csv('acquisitions.csv')\n",
        "investors                 = pd.read_csv('investors.csv')\n",
        "funding_rounds            = pd.read_csv('funding_rounds.csv')\n",
        "degrees                   = pd.read_csv('degrees.csv')\n",
        "event_appearances         = pd.read_csv('event_appearances.csv')\n",
        "people_descriptions       = pd.read_csv('people_descriptions.csv')\n",
        "investments               = pd.read_csv('investments.csv')\n",
        "organization_descriptions = pd.read_csv('organization_descriptions.csv')\n",
        "people                     = pd.read_csv('people.csv')\n",
        "jobs                      = pd.read_csv('jobs.csv')\n",
        "organizations             = pd.read_csv('organizations.csv')"
      ],
      "execution_count": null,
      "outputs": []
    },
    {
      "cell_type": "markdown",
      "metadata": {
        "id": "FDyCpUCPU-nF"
      },
      "source": [
        "## 2. Regression of company valuation at the time of IPO \n",
        "The first hypothesis assumes the possibility of regression of the company's value at the time of the initial public offering."
      ]
    },
    {
      "cell_type": "markdown",
      "metadata": {
        "id": "kTTw-KQE8tDL"
      },
      "source": [
        "### 2.1 Regression based on funding statistics\n",
        "First, let's try to use statistics on funding rounds."
      ]
    },
    {
      "cell_type": "code",
      "metadata": {
        "id": "jeB9xrGKsUnX"
      },
      "source": [
        ""
      ],
      "execution_count": null,
      "outputs": []
    },
    {
      "cell_type": "markdown",
      "metadata": {
        "id": "5IfXqCbc89bs"
      },
      "source": [
        "#### 2.1.1 Merge tables and form dataframe with statistics on funding rounds. I will merge tables with information on IPOs and organizations. Valuation price on IPO gonna be our target variable. For learning and testing purposes let's drop IPOs that don't have information on valuation price"
      ]
    },
    {
      "cell_type": "code",
      "metadata": {
        "id": "o0-I-kesyEpT",
        "colab": {
          "base_uri": "https://localhost:8080/",
          "height": 926
        },
        "outputId": "bd1540fe-e85d-449b-dbc2-037988f5c4d6"
      },
      "source": [
        "organizations21 = organizations.rename(columns={'uuid': 'org_uuid'}) # rename 'uuid' column, so we can merge organizations table with IPOs table basing on 'org_uuid' column\n",
        "\n",
        "# drop columns from organizations table that are not informative in this hypothesis\n",
        "\n",
        "organizations21.drop(columns=['name', 'type', 'permalink', 'cb_url', 'rank',\n",
        "                              'created_at', 'updated_at', 'legal_name', 'roles',\n",
        "                              'domain', 'homepage_url', 'country_code', 'state_code',\n",
        "                              'city', 'address', 'postal_code', 'status', 'short_description',\n",
        "                              'category_list', 'category_groups_list', 'total_funding', 'total_funding_usd',\n",
        "                              'total_funding_currency_code', 'last_funding_on', 'closed_on',\n",
        "                              'employee_count', 'email', 'phone', 'facebook_url', 'linkedin_url',\n",
        "                              'twitter_url', 'logo_url', 'alias1','alias2', 'alias3', 'primary_role', 'num_exits'], inplace=True)\n",
        "\n",
        "# drop columns from IPOs table that are not informative in this hypothesis\n",
        "\n",
        "\n",
        "ipos21 = ipos.drop(columns=['uuid','name', 'type', 'permalink', 'cb_url', 'rank', 'created_at', 'updated_at', 'org_name',\n",
        "                            'org_cb_url', 'country_code', 'state_code', 'region', 'city', 'stock_exchange_symbol', 'money_raised_usd',\n",
        "                            'stock_symbol', 'share_price_currency_code', 'share_price', 'share_price_usd',\n",
        "                            'valuation_price', 'valuation_price_currency_code', 'money_raised', 'money_raised_currency_code'])\n",
        "\n",
        "# copy funding_rounds table\n",
        "\n",
        "funding_rounds21 = funding_rounds\n",
        "\n",
        "ipos21.drop_duplicates(subset=['org_uuid'], keep=False, inplace=True)\n",
        "\n",
        "# merge IPOs and organizations tables\n",
        "\n",
        "df21 = pd.merge(ipos21, organizations21, on='org_uuid', how='left')\n",
        "\n",
        "# drop data on funding rounds that is not actual because funding rounds took place after IPO\n",
        "\n",
        "df21.num_funding_rounds = np.zeros(shape = (df21.shape[0], 1))\n",
        "\n",
        "df21.dropna(inplace=True)\n",
        "\n",
        "funding_rounds21 = funding_rounds21[funding_rounds21['org_uuid'].isin(df21['org_uuid'])]\n",
        "\n",
        "def drop_frounds_afteripo(row):\n",
        "  global funding_rounds21\n",
        "  if np.datetime64(row.announced_on) >= np.datetime64(df21.loc[df21.org_uuid == row.org_uuid].went_public_on.iloc[0]):\n",
        "    funding_rounds21 = funding_rounds21[funding_rounds21.uuid != row.uuid]\n",
        "  \n",
        "funding_rounds21.apply(drop_frounds_afteripo, axis=1)\n",
        "\n",
        "for index, row in df21.iterrows():\n",
        "  df21.loc[df21.org_uuid == row.org_uuid, 'num_funding_rounds'] = funding_rounds21.loc[funding_rounds.org_uuid == row.org_uuid].shape[0]\n",
        "\n",
        "funding_rounds21.dropna(subset=['raised_amount_usd'], inplace=True)\n",
        "\n",
        "df21 = pd.merge(df21, funding_rounds21.groupby('org_uuid')['raised_amount_usd'].mean(), on='org_uuid', how='left')\n",
        "df21 = pd.merge(df21, funding_rounds21.groupby('org_uuid')['raised_amount_usd'].std(ddof=0), on='org_uuid', how='left')\n",
        "df21 = df21.rename(columns={'raised_amount_usd_x':'raised_amount_usd_mean', 'raised_amount_usd_y':'raised_amount_usd_std'})\n",
        "df21 = pd.merge(df21, funding_rounds21.groupby('org_uuid')['raised_amount_usd'].median(), on='org_uuid', how='left')\n",
        "df21 = pd.merge(df21, funding_rounds21.groupby('org_uuid')['raised_amount_usd'].max(), on='org_uuid', how='left')\n",
        "df21 = pd.merge(df21, funding_rounds21.groupby('org_uuid')['raised_amount_usd'].min(), on='org_uuid', how='left')\n",
        "df21 = df21.rename(columns={'raised_amount_usd_x':'raised_amount_usd_median', 'raised_amount_usd_y':'raised_amount_usd_max', 'raised_amount_usd':'raised_amount_usd_min'})\n",
        "\n",
        "df21.fillna(0)\n",
        "df21"
      ],
      "execution_count": null,
      "outputs": [
        {
          "output_type": "execute_result",
          "data": {
            "text/html": [
              "<div>\n",
              "<style scoped>\n",
              "    .dataframe tbody tr th:only-of-type {\n",
              "        vertical-align: middle;\n",
              "    }\n",
              "\n",
              "    .dataframe tbody tr th {\n",
              "        vertical-align: top;\n",
              "    }\n",
              "\n",
              "    .dataframe thead th {\n",
              "        text-align: right;\n",
              "    }\n",
              "</style>\n",
              "<table border=\"1\" class=\"dataframe\">\n",
              "  <thead>\n",
              "    <tr style=\"text-align: right;\">\n",
              "      <th></th>\n",
              "      <th>org_uuid</th>\n",
              "      <th>went_public_on</th>\n",
              "      <th>valuation_price_usd</th>\n",
              "      <th>region</th>\n",
              "      <th>num_funding_rounds</th>\n",
              "      <th>founded_on</th>\n",
              "      <th>raised_amount_usd_mean</th>\n",
              "      <th>raised_amount_usd_std</th>\n",
              "      <th>raised_amount_usd_median</th>\n",
              "      <th>raised_amount_usd_max</th>\n",
              "      <th>raised_amount_usd_min</th>\n",
              "    </tr>\n",
              "  </thead>\n",
              "  <tbody>\n",
              "    <tr>\n",
              "      <th>0</th>\n",
              "      <td>73296f0d-85a5-78d5-90b3-86c5f8981ba9</td>\n",
              "      <td>2006-10-22</td>\n",
              "      <td>1.600000e+08</td>\n",
              "      <td>California</td>\n",
              "      <td>4.0</td>\n",
              "      <td>1999-01-01</td>\n",
              "      <td>8.750000e+06</td>\n",
              "      <td>4.815340e+06</td>\n",
              "      <td>6500000.0</td>\n",
              "      <td>17000000.0</td>\n",
              "      <td>5000000.0</td>\n",
              "    </tr>\n",
              "    <tr>\n",
              "      <th>1</th>\n",
              "      <td>ab8e5ba4-df5d-121b-93b6-eae7a0c89245</td>\n",
              "      <td>1988-08-12</td>\n",
              "      <td>6.000000e+09</td>\n",
              "      <td>Texas</td>\n",
              "      <td>0.0</td>\n",
              "      <td>1980-09-19</td>\n",
              "      <td>NaN</td>\n",
              "      <td>NaN</td>\n",
              "      <td>NaN</td>\n",
              "      <td>NaN</td>\n",
              "      <td>NaN</td>\n",
              "    </tr>\n",
              "    <tr>\n",
              "      <th>2</th>\n",
              "      <td>6140db48-bef9-bc68-aeea-72f322a7913d</td>\n",
              "      <td>1993-10-08</td>\n",
              "      <td>2.000000e+09</td>\n",
              "      <td>New York</td>\n",
              "      <td>0.0</td>\n",
              "      <td>1917-01-01</td>\n",
              "      <td>NaN</td>\n",
              "      <td>NaN</td>\n",
              "      <td>NaN</td>\n",
              "      <td>NaN</td>\n",
              "      <td>NaN</td>\n",
              "    </tr>\n",
              "    <tr>\n",
              "      <th>3</th>\n",
              "      <td>c273424a-c118-e7ab-29a6-843775e7e6d0</td>\n",
              "      <td>2005-08-05</td>\n",
              "      <td>1.173117e+08</td>\n",
              "      <td>Beijing</td>\n",
              "      <td>3.0</td>\n",
              "      <td>1999-10-11</td>\n",
              "      <td>8.733333e+06</td>\n",
              "      <td>5.704579e+06</td>\n",
              "      <td>10000000.0</td>\n",
              "      <td>15000000.0</td>\n",
              "      <td>1200000.0</td>\n",
              "    </tr>\n",
              "    <tr>\n",
              "      <th>4</th>\n",
              "      <td>71d51015-1800-ed61-8bc3-8dca49caec15</td>\n",
              "      <td>1996-04-12</td>\n",
              "      <td>8.480000e+08</td>\n",
              "      <td>California</td>\n",
              "      <td>2.0</td>\n",
              "      <td>1994-01-01</td>\n",
              "      <td>3.400000e+06</td>\n",
              "      <td>1.400000e+06</td>\n",
              "      <td>3400000.0</td>\n",
              "      <td>4800000.0</td>\n",
              "      <td>2000000.0</td>\n",
              "    </tr>\n",
              "    <tr>\n",
              "      <th>...</th>\n",
              "      <td>...</td>\n",
              "      <td>...</td>\n",
              "      <td>...</td>\n",
              "      <td>...</td>\n",
              "      <td>...</td>\n",
              "      <td>...</td>\n",
              "      <td>...</td>\n",
              "      <td>...</td>\n",
              "      <td>...</td>\n",
              "      <td>...</td>\n",
              "      <td>...</td>\n",
              "    </tr>\n",
              "    <tr>\n",
              "      <th>1908</th>\n",
              "      <td>3a59febe-f31c-43cc-95a3-08928c3b2730</td>\n",
              "      <td>1996-07-16</td>\n",
              "      <td>3.354776e+07</td>\n",
              "      <td>Beijing</td>\n",
              "      <td>0.0</td>\n",
              "      <td>1993-12-20</td>\n",
              "      <td>NaN</td>\n",
              "      <td>NaN</td>\n",
              "      <td>NaN</td>\n",
              "      <td>NaN</td>\n",
              "      <td>NaN</td>\n",
              "    </tr>\n",
              "    <tr>\n",
              "      <th>1909</th>\n",
              "      <td>8160379b-eded-4280-9d7d-f463663adc83</td>\n",
              "      <td>2020-08-21</td>\n",
              "      <td>8.046000e+08</td>\n",
              "      <td>Yerushalayim</td>\n",
              "      <td>4.0</td>\n",
              "      <td>2012-01-01</td>\n",
              "      <td>2.858767e+07</td>\n",
              "      <td>1.956981e+07</td>\n",
              "      <td>25500000.0</td>\n",
              "      <td>59000000.0</td>\n",
              "      <td>4350668.0</td>\n",
              "    </tr>\n",
              "    <tr>\n",
              "      <th>1910</th>\n",
              "      <td>4ae84b4a-5781-ea8c-21d2-2475af9a09dc</td>\n",
              "      <td>2000-02-08</td>\n",
              "      <td>3.600000e+08</td>\n",
              "      <td>Pennsylvania</td>\n",
              "      <td>1.0</td>\n",
              "      <td>1992-01-01</td>\n",
              "      <td>3.500000e+06</td>\n",
              "      <td>0.000000e+00</td>\n",
              "      <td>3500000.0</td>\n",
              "      <td>3500000.0</td>\n",
              "      <td>3500000.0</td>\n",
              "    </tr>\n",
              "    <tr>\n",
              "      <th>1911</th>\n",
              "      <td>809013c5-7c34-9206-3450-2d336a56dbd0</td>\n",
              "      <td>2019-10-21</td>\n",
              "      <td>1.000000e+07</td>\n",
              "      <td>Stockholms Lan</td>\n",
              "      <td>1.0</td>\n",
              "      <td>2015-01-01</td>\n",
              "      <td>NaN</td>\n",
              "      <td>NaN</td>\n",
              "      <td>NaN</td>\n",
              "      <td>NaN</td>\n",
              "      <td>NaN</td>\n",
              "    </tr>\n",
              "    <tr>\n",
              "      <th>1912</th>\n",
              "      <td>5bf810dd-bb70-3305-c2ca-a03b78ea86d3</td>\n",
              "      <td>2020-09-07</td>\n",
              "      <td>1.790207e+08</td>\n",
              "      <td>Auckland</td>\n",
              "      <td>1.0</td>\n",
              "      <td>2016-08-01</td>\n",
              "      <td>1.038321e+08</td>\n",
              "      <td>0.000000e+00</td>\n",
              "      <td>103832052.0</td>\n",
              "      <td>103832052.0</td>\n",
              "      <td>103832052.0</td>\n",
              "    </tr>\n",
              "  </tbody>\n",
              "</table>\n",
              "<p>1913 rows × 11 columns</p>\n",
              "</div>"
            ],
            "text/plain": [
              "                                  org_uuid  ... raised_amount_usd_min\n",
              "0     73296f0d-85a5-78d5-90b3-86c5f8981ba9  ...             5000000.0\n",
              "1     ab8e5ba4-df5d-121b-93b6-eae7a0c89245  ...                   NaN\n",
              "2     6140db48-bef9-bc68-aeea-72f322a7913d  ...                   NaN\n",
              "3     c273424a-c118-e7ab-29a6-843775e7e6d0  ...             1200000.0\n",
              "4     71d51015-1800-ed61-8bc3-8dca49caec15  ...             2000000.0\n",
              "...                                    ...  ...                   ...\n",
              "1908  3a59febe-f31c-43cc-95a3-08928c3b2730  ...                   NaN\n",
              "1909  8160379b-eded-4280-9d7d-f463663adc83  ...             4350668.0\n",
              "1910  4ae84b4a-5781-ea8c-21d2-2475af9a09dc  ...             3500000.0\n",
              "1911  809013c5-7c34-9206-3450-2d336a56dbd0  ...                   NaN\n",
              "1912  5bf810dd-bb70-3305-c2ca-a03b78ea86d3  ...           103832052.0\n",
              "\n",
              "[1913 rows x 11 columns]"
            ]
          },
          "metadata": {
            "tags": []
          },
          "execution_count": 6
        }
      ]
    },
    {
      "cell_type": "code",
      "metadata": {
        "id": "nycAYwg1VI5T"
      },
      "source": [
        ""
      ],
      "execution_count": null,
      "outputs": []
    },
    {
      "cell_type": "code",
      "metadata": {
        "id": "W8NxYmM2aEBA"
      },
      "source": [
        "X = df21.drop(columns=['org_uuid', 'went_public_on', 'valuation_price_usd', 'founded_on', 'region'])\n",
        "y = df21.valuation_price_usd\n",
        "X_train, X_test, y_train, y_test = train_test_split(X, y, test_size=0.2, random_state=0)\n"
      ],
      "execution_count": null,
      "outputs": []
    },
    {
      "cell_type": "code",
      "metadata": {
        "id": "rhPmkNDAUqmD"
      },
      "source": [
        "xgbr = xgb.XGBRegressor(base_score=0.5, booster='gbtree', colsample_bylevel=1,\n",
        "       colsample_bynode=1, colsample_bytree=1, gamma=0.3,\n",
        "       importance_type='gain', learning_rate=0.1, max_delta_step=0,\n",
        "       max_depth=3, min_child_weight=1, missing=None, n_estimators=22,\n",
        "       n_jobs=1, nthread=None, objective='reg:linear', random_state=0,\n",
        "       reg_alpha=0.5, reg_lambda=1, scale_pos_weight=1, seed=228,\n",
        "       silent=None, subsample=1, verbosity=1) \n",
        "\n"
      ],
      "execution_count": null,
      "outputs": []
    },
    {
      "cell_type": "code",
      "metadata": {
        "id": "tRDY0L8AUto4",
        "colab": {
          "base_uri": "https://localhost:8080/"
        },
        "outputId": "35656574-3399-4215-f9b4-e799f0056a61"
      },
      "source": [
        "xgbr.fit(X_train, y_train)"
      ],
      "execution_count": null,
      "outputs": [
        {
          "output_type": "stream",
          "text": [
            "[17:09:26] WARNING: /workspace/src/objective/regression_obj.cu:152: reg:linear is now deprecated in favor of reg:squarederror.\n"
          ],
          "name": "stdout"
        },
        {
          "output_type": "execute_result",
          "data": {
            "text/plain": [
              "XGBRegressor(base_score=0.5, booster='gbtree', colsample_bylevel=1,\n",
              "             colsample_bynode=1, colsample_bytree=1, gamma=0.3,\n",
              "             importance_type='gain', learning_rate=0.1, max_delta_step=0,\n",
              "             max_depth=3, min_child_weight=1, missing=None, n_estimators=22,\n",
              "             n_jobs=1, nthread=None, objective='reg:linear', random_state=0,\n",
              "             reg_alpha=0.5, reg_lambda=1, scale_pos_weight=1, seed=228,\n",
              "             silent=None, subsample=1, verbosity=1)"
            ]
          },
          "metadata": {
            "tags": []
          },
          "execution_count": 9
        }
      ]
    },
    {
      "cell_type": "code",
      "metadata": {
        "id": "9KOeTE2aUvqv",
        "colab": {
          "base_uri": "https://localhost:8080/"
        },
        "outputId": "58473546-784d-4ad7-9198-12437fc9fcb7"
      },
      "source": [
        "score = xgbr.score(X_train, y_train)  \n",
        "score\n",
        "ypred = xgbr.predict(X_test)\n",
        "rsquared = r2_score(y_test, ypred)\n",
        "print(rsquared)\n",
        "\n",
        "\n",
        "importance = xgbr.feature_importances_\n",
        "#summarize feature importance\n",
        "for i,v in enumerate(importance):\n",
        "\tprint('Feature: %0d, Score: %.5f' % (i,v))"
      ],
      "execution_count": null,
      "outputs": [
        {
          "output_type": "stream",
          "text": [
            "0.1734319158983838\n",
            "Feature: 0, Score: 0.18080\n",
            "Feature: 1, Score: 0.03931\n",
            "Feature: 2, Score: 0.17240\n",
            "Feature: 3, Score: 0.01591\n",
            "Feature: 4, Score: 0.56126\n",
            "Feature: 5, Score: 0.03033\n"
          ],
          "name": "stdout"
        }
      ]
    },
    {
      "cell_type": "code",
      "metadata": {
        "id": "QgqPuHLsUxfq",
        "colab": {
          "base_uri": "https://localhost:8080/",
          "height": 1000
        },
        "outputId": "cbbb51b0-7445-4997-ef0d-f0a6a781cdca"
      },
      "source": [
        "n_years = 11\n",
        "df22 = df21\n",
        "def went_public_soon (row):\n",
        "  global n_years\n",
        "  return (np.datetime64(row.went_public_on, 'Y') - np.datetime64(row.founded_on, 'Y')) < np.timedelta64(n_years, 'Y')\n",
        "\n",
        "went_public_in_n_years = pd.DataFrame(df22.apply(went_public_soon, axis=1))\n",
        "\n",
        "df22 = df22.merge(went_public_in_n_years, left_index=True, right_index=True, how='left')\n",
        "df22.rename(columns={0:'went_public_in_n_years'}, inplace=True)\n",
        "df22.went_public_in_n_years.value_counts()\n",
        "df22 = df22.dropna()\n",
        "\n",
        "def drop_late_ipos (row):\n",
        "  global n_years\n",
        "  if np.datetime64('2020', 'Y') - np.datetime64(row.founded_on, 'Y') >= np.timedelta64(n_years, 'Y'):\n",
        "    return row\n",
        "df22_dropped = pd.DataFrame(df22.apply(drop_late_ipos, axis=1))\n",
        "df22_dropped.dropna(inplace=True)\n",
        "df22_dropped.went_public_in_n_years.value_counts()\n",
        "print(df22.region.value_counts())\n",
        "\n",
        "df22"
      ],
      "execution_count": null,
      "outputs": [
        {
          "output_type": "stream",
          "text": [
            "California           301\n",
            "Massachusetts        114\n",
            "New York              44\n",
            "Texas                 37\n",
            "Beijing               31\n",
            "                    ... \n",
            "Baden-Wurttemberg      1\n",
            "Hubei                  1\n",
            "Herefordshire          1\n",
            "Moscow City            1\n",
            "Devon                  1\n",
            "Name: region, Length: 131, dtype: int64\n"
          ],
          "name": "stdout"
        },
        {
          "output_type": "execute_result",
          "data": {
            "text/html": [
              "<div>\n",
              "<style scoped>\n",
              "    .dataframe tbody tr th:only-of-type {\n",
              "        vertical-align: middle;\n",
              "    }\n",
              "\n",
              "    .dataframe tbody tr th {\n",
              "        vertical-align: top;\n",
              "    }\n",
              "\n",
              "    .dataframe thead th {\n",
              "        text-align: right;\n",
              "    }\n",
              "</style>\n",
              "<table border=\"1\" class=\"dataframe\">\n",
              "  <thead>\n",
              "    <tr style=\"text-align: right;\">\n",
              "      <th></th>\n",
              "      <th>org_uuid</th>\n",
              "      <th>went_public_on</th>\n",
              "      <th>valuation_price_usd</th>\n",
              "      <th>region</th>\n",
              "      <th>num_funding_rounds</th>\n",
              "      <th>founded_on</th>\n",
              "      <th>raised_amount_usd_mean</th>\n",
              "      <th>raised_amount_usd_std</th>\n",
              "      <th>raised_amount_usd_median</th>\n",
              "      <th>raised_amount_usd_max</th>\n",
              "      <th>raised_amount_usd_min</th>\n",
              "      <th>went_public_in_n_years</th>\n",
              "    </tr>\n",
              "  </thead>\n",
              "  <tbody>\n",
              "    <tr>\n",
              "      <th>0</th>\n",
              "      <td>73296f0d-85a5-78d5-90b3-86c5f8981ba9</td>\n",
              "      <td>2006-10-22</td>\n",
              "      <td>1.600000e+08</td>\n",
              "      <td>California</td>\n",
              "      <td>4.0</td>\n",
              "      <td>1999-01-01</td>\n",
              "      <td>8.750000e+06</td>\n",
              "      <td>4.815340e+06</td>\n",
              "      <td>6500000.0</td>\n",
              "      <td>17000000.0</td>\n",
              "      <td>5000000.0</td>\n",
              "      <td>True</td>\n",
              "    </tr>\n",
              "    <tr>\n",
              "      <th>3</th>\n",
              "      <td>c273424a-c118-e7ab-29a6-843775e7e6d0</td>\n",
              "      <td>2005-08-05</td>\n",
              "      <td>1.173117e+08</td>\n",
              "      <td>Beijing</td>\n",
              "      <td>3.0</td>\n",
              "      <td>1999-10-11</td>\n",
              "      <td>8.733333e+06</td>\n",
              "      <td>5.704579e+06</td>\n",
              "      <td>10000000.0</td>\n",
              "      <td>15000000.0</td>\n",
              "      <td>1200000.0</td>\n",
              "      <td>True</td>\n",
              "    </tr>\n",
              "    <tr>\n",
              "      <th>4</th>\n",
              "      <td>71d51015-1800-ed61-8bc3-8dca49caec15</td>\n",
              "      <td>1996-04-12</td>\n",
              "      <td>8.480000e+08</td>\n",
              "      <td>California</td>\n",
              "      <td>2.0</td>\n",
              "      <td>1994-01-01</td>\n",
              "      <td>3.400000e+06</td>\n",
              "      <td>1.400000e+06</td>\n",
              "      <td>3400000.0</td>\n",
              "      <td>4800000.0</td>\n",
              "      <td>2000000.0</td>\n",
              "      <td>True</td>\n",
              "    </tr>\n",
              "    <tr>\n",
              "      <th>6</th>\n",
              "      <td>3cae090b-ed2d-95f8-79a9-e32ca480258f</td>\n",
              "      <td>2004-06-25</td>\n",
              "      <td>1.100000e+10</td>\n",
              "      <td>Guangdong</td>\n",
              "      <td>3.0</td>\n",
              "      <td>1998-11-01</td>\n",
              "      <td>1.080667e+07</td>\n",
              "      <td>1.498595e+07</td>\n",
              "      <td>220000.0</td>\n",
              "      <td>32000000.0</td>\n",
              "      <td>200000.0</td>\n",
              "      <td>True</td>\n",
              "    </tr>\n",
              "    <tr>\n",
              "      <th>8</th>\n",
              "      <td>b69ecc7f-c29f-093b-33bc-7cd8e3193868</td>\n",
              "      <td>2011-10-28</td>\n",
              "      <td>1.400000e+10</td>\n",
              "      <td>Colorado</td>\n",
              "      <td>1.0</td>\n",
              "      <td>1998-01-05</td>\n",
              "      <td>1.370000e+07</td>\n",
              "      <td>0.000000e+00</td>\n",
              "      <td>13700000.0</td>\n",
              "      <td>13700000.0</td>\n",
              "      <td>13700000.0</td>\n",
              "      <td>False</td>\n",
              "    </tr>\n",
              "    <tr>\n",
              "      <th>...</th>\n",
              "      <td>...</td>\n",
              "      <td>...</td>\n",
              "      <td>...</td>\n",
              "      <td>...</td>\n",
              "      <td>...</td>\n",
              "      <td>...</td>\n",
              "      <td>...</td>\n",
              "      <td>...</td>\n",
              "      <td>...</td>\n",
              "      <td>...</td>\n",
              "      <td>...</td>\n",
              "      <td>...</td>\n",
              "    </tr>\n",
              "    <tr>\n",
              "      <th>1905</th>\n",
              "      <td>adf4ac1f-753a-4361-a002-8892fc06861e</td>\n",
              "      <td>2020-08-20</td>\n",
              "      <td>8.627600e+08</td>\n",
              "      <td>Massachusetts</td>\n",
              "      <td>4.0</td>\n",
              "      <td>2017-01-01</td>\n",
              "      <td>6.566667e+07</td>\n",
              "      <td>2.939766e+07</td>\n",
              "      <td>65000000.0</td>\n",
              "      <td>102000000.0</td>\n",
              "      <td>30000000.0</td>\n",
              "      <td>True</td>\n",
              "    </tr>\n",
              "    <tr>\n",
              "      <th>1907</th>\n",
              "      <td>2abe40fe-8ae3-4aa7-a685-e367d10529ea</td>\n",
              "      <td>2020-02-17</td>\n",
              "      <td>6.647184e+07</td>\n",
              "      <td>Guangdong</td>\n",
              "      <td>3.0</td>\n",
              "      <td>2012-08-08</td>\n",
              "      <td>1.022512e+07</td>\n",
              "      <td>1.105936e+07</td>\n",
              "      <td>4523386.0</td>\n",
              "      <td>25688749.0</td>\n",
              "      <td>463210.0</td>\n",
              "      <td>True</td>\n",
              "    </tr>\n",
              "    <tr>\n",
              "      <th>1909</th>\n",
              "      <td>8160379b-eded-4280-9d7d-f463663adc83</td>\n",
              "      <td>2020-08-21</td>\n",
              "      <td>8.046000e+08</td>\n",
              "      <td>Yerushalayim</td>\n",
              "      <td>4.0</td>\n",
              "      <td>2012-01-01</td>\n",
              "      <td>2.858767e+07</td>\n",
              "      <td>1.956981e+07</td>\n",
              "      <td>25500000.0</td>\n",
              "      <td>59000000.0</td>\n",
              "      <td>4350668.0</td>\n",
              "      <td>True</td>\n",
              "    </tr>\n",
              "    <tr>\n",
              "      <th>1910</th>\n",
              "      <td>4ae84b4a-5781-ea8c-21d2-2475af9a09dc</td>\n",
              "      <td>2000-02-08</td>\n",
              "      <td>3.600000e+08</td>\n",
              "      <td>Pennsylvania</td>\n",
              "      <td>1.0</td>\n",
              "      <td>1992-01-01</td>\n",
              "      <td>3.500000e+06</td>\n",
              "      <td>0.000000e+00</td>\n",
              "      <td>3500000.0</td>\n",
              "      <td>3500000.0</td>\n",
              "      <td>3500000.0</td>\n",
              "      <td>True</td>\n",
              "    </tr>\n",
              "    <tr>\n",
              "      <th>1912</th>\n",
              "      <td>5bf810dd-bb70-3305-c2ca-a03b78ea86d3</td>\n",
              "      <td>2020-09-07</td>\n",
              "      <td>1.790207e+08</td>\n",
              "      <td>Auckland</td>\n",
              "      <td>1.0</td>\n",
              "      <td>2016-08-01</td>\n",
              "      <td>1.038321e+08</td>\n",
              "      <td>0.000000e+00</td>\n",
              "      <td>103832052.0</td>\n",
              "      <td>103832052.0</td>\n",
              "      <td>103832052.0</td>\n",
              "      <td>True</td>\n",
              "    </tr>\n",
              "  </tbody>\n",
              "</table>\n",
              "<p>979 rows × 12 columns</p>\n",
              "</div>"
            ],
            "text/plain": [
              "                                  org_uuid  ... went_public_in_n_years\n",
              "0     73296f0d-85a5-78d5-90b3-86c5f8981ba9  ...                   True\n",
              "3     c273424a-c118-e7ab-29a6-843775e7e6d0  ...                   True\n",
              "4     71d51015-1800-ed61-8bc3-8dca49caec15  ...                   True\n",
              "6     3cae090b-ed2d-95f8-79a9-e32ca480258f  ...                   True\n",
              "8     b69ecc7f-c29f-093b-33bc-7cd8e3193868  ...                  False\n",
              "...                                    ...  ...                    ...\n",
              "1905  adf4ac1f-753a-4361-a002-8892fc06861e  ...                   True\n",
              "1907  2abe40fe-8ae3-4aa7-a685-e367d10529ea  ...                   True\n",
              "1909  8160379b-eded-4280-9d7d-f463663adc83  ...                   True\n",
              "1910  4ae84b4a-5781-ea8c-21d2-2475af9a09dc  ...                   True\n",
              "1912  5bf810dd-bb70-3305-c2ca-a03b78ea86d3  ...                   True\n",
              "\n",
              "[979 rows x 12 columns]"
            ]
          },
          "metadata": {
            "tags": []
          },
          "execution_count": 11
        }
      ]
    },
    {
      "cell_type": "code",
      "metadata": {
        "id": "WVktXUSjbEYf"
      },
      "source": [
        "# Посмотреть успешность по конкретным вузам \n",
        "# 1й CEO\n",
        "# Последний \n",
        "# Подтягива"
      ],
      "execution_count": null,
      "outputs": []
    },
    {
      "cell_type": "code",
      "metadata": {
        "id": "DzkzvN4oL8rY",
        "colab": {
          "base_uri": "https://localhost:8080/",
          "height": 296
        },
        "outputId": "d0cce509-d89b-4a9c-ea33-232626888d96"
      },
      "source": [
        "\n",
        "X = df22_dropped.drop(columns=['org_uuid', 'went_public_on', 'valuation_price_usd', 'founded_on', 'went_public_in_n_years', 'region'])\n",
        "y = df22_dropped.went_public_in_n_years.astype(int)\n",
        "\n",
        "\n",
        "\n",
        "X_train, X_test, y_train, y_test = train_test_split(X, y, test_size=0.2, random_state=0)\n",
        "\n",
        "scaler = StandardScaler()\n",
        "X_st = scaler.fit_transform(X_train)\n",
        "X_st_test = scaler.fit_transform(X_test)\n",
        "\n",
        "svc_rbf=SVC(kernel='rbf', C=2, gamma=2, class_weight='balanced', random_state=0, probability=True)\n",
        "svc_rbf.fit(X_st, y_train)\n",
        "predictions_rbf=svc_rbf.predict(X_st_test)\n",
        "\n",
        "yhat = svc_rbf.predict_proba(X_st_test)\n",
        "pos_probs = yhat[:, 1]\n",
        "# calculate the precision-recall auc\n",
        "precision, recall, _ = precision_recall_curve(y_test, pos_probs)\n",
        "auc_score = auc(recall, precision)\n",
        "print('PR AUC: %.3f' % auc_score)\n",
        "\n",
        "disp = plot_precision_recall_curve(svc_rbf, X_st_test, y_test)\n",
        "\n"
      ],
      "execution_count": null,
      "outputs": [
        {
          "output_type": "stream",
          "text": [
            "PR AUC: 0.651\n"
          ],
          "name": "stdout"
        },
        {
          "output_type": "display_data",
          "data": {
            "image/png": "[encoded data removed]",
            "text/plain": [
              "<Figure size 432x288 with 1 Axes>"
            ]
          },
          "metadata": {
            "tags": [],
            "needs_background": "light"
          }
        }
      ]
    },
    {
      "cell_type": "code",
      "metadata": {
        "id": "2pzHe6adeUwI"
      },
      "source": [
        ""
      ],
      "execution_count": null,
      "outputs": []
    },
    {
      "cell_type": "code",
      "metadata": {
        "id": "XUZaIzaF9l_J",
        "colab": {
          "base_uri": "https://localhost:8080/",
          "height": 296
        },
        "outputId": "06baaf07-36e1-4323-a52e-f66cb3da038c"
      },
      "source": [
        "X = df22_dropped.drop(columns=['org_uuid', 'went_public_on', 'valuation_price_usd', 'founded_on', 'went_public_in_n_years', 'region', 'num_funding_rounds'])\n",
        "y = df22_dropped.went_public_in_n_years.astype(int)\n",
        "\n",
        "\n",
        "\n",
        "X_train, X_test, y_train, y_test = train_test_split(X, y, test_size=0.2, random_state=0)\n",
        "\n",
        "scaler = StandardScaler()\n",
        "X_st = scaler.fit_transform(X_train)\n",
        "X_st_test = scaler.fit_transform(X_test)\n",
        "\n",
        "svc_rbf=SVC(kernel='rbf', C=2, gamma=2, class_weight='balanced', random_state=0, probability=True)\n",
        "svc_rbf.fit(X_st, y_train)\n",
        "predictions_rbf=svc_rbf.predict(X_st_test)\n",
        "\n",
        "yhat = svc_rbf.predict_proba(X_st_test)\n",
        "pos_probs = yhat[:, 1]\n",
        "# calculate the precision-recall auc\n",
        "precision, recall, _ = precision_recall_curve(y_test, pos_probs)\n",
        "auc_score = auc(recall, precision)\n",
        "print('PR AUC: %.3f' % auc_score)\n",
        "\n",
        "disp = plot_precision_recall_curve(svc_rbf, X_st_test, y_test)\n"
      ],
      "execution_count": null,
      "outputs": [
        {
          "output_type": "stream",
          "text": [
            "PR AUC: 0.492\n"
          ],
          "name": "stdout"
        },
        {
          "output_type": "display_data",
          "data": {
            "image/png": "[encoded data removed]",
            "text/plain": [
              "<Figure size 432x288 with 1 Axes>"
            ]
          },
          "metadata": {
            "tags": [],
            "needs_background": "light"
          }
        }
      ]
    },
    {
      "cell_type": "code",
      "metadata": {
        "id": "ovbuvc-19lmd",
        "colab": {
          "base_uri": "https://localhost:8080/"
        },
        "outputId": "bffe21f0-bd78-450d-d7b3-ce7b11dddf0c"
      },
      "source": [
        "X = df22_dropped.drop(columns=['org_uuid', 'went_public_on', 'valuation_price_usd', 'founded_on', 'went_public_in_n_years', 'region', 'raised_amount_usd_mean'])\n",
        "y = df22_dropped.went_public_in_n_years.astype(int)\n",
        "\n",
        "\n",
        "\n",
        "X_train, X_test, y_train, y_test = train_test_split(X, y, test_size=0.2, random_state=0)\n",
        "\n",
        "scaler = StandardScaler()\n",
        "X_st = scaler.fit_transform(X_train)\n",
        "X_st_test = scaler.fit_transform(X_test)\n",
        "\n",
        "svc_rbf=SVC(kernel='rbf', C=2, gamma=2, class_weight='balanced', random_state=0, probability=True)\n",
        "svc_rbf.fit(X_st, y_train)\n",
        "predictions_rbf=svc_rbf.predict(X_st_test)\n",
        "\n",
        "yhat = svc_rbf.predict_proba(X_st_test)\n",
        "pos_probs = yhat[:, 1]\n",
        "# calculate the precision-recall auc\n",
        "precision, recall, _ = precision_recall_curve(y_test, pos_probs)\n",
        "auc_score = auc(recall, precision)\n",
        "print('PR AUC: %.3f' % auc_score)\n",
        "\n",
        "disp = plot_precision_recall_curve(svc_rbf, X_st_test, y_test)\n"
      ],
      "execution_count": null,
      "outputs": [
        {
          "output_type": "stream",
          "text": [
            "PR AUC: 0.661\n"
          ],
          "name": "stdout"
        },
        {
          "output_type": "display_data",
          "data": {
            "image/png": "[encoded data removed]",
            "text/plain": [
              "<Figure size 432x288 with 1 Axes>"
            ]
          },
          "metadata": {
            "tags": [],
            "needs_background": "light"
          }
        }
      ]
    },
    {
      "cell_type": "code",
      "metadata": {
        "id": "535gjIQt9lGw",
        "colab": {
          "base_uri": "https://localhost:8080/",
          "height": 71
        },
        "outputId": "3f7dc6ee-0459-421c-c90b-74cca9bb72c5"
      },
      "source": [
        "X = df22_dropped.drop(columns=['org_uuid', 'went_public_on', 'valuation_price_usd', 'founded_on', 'went_public_in_n_years', 'region', 'raised_amount_usd_std'])\n",
        "y = df22_dropped.went_public_in_n_years.astype(int)\n",
        "\n",
        "\n",
        "\n",
        "X_train, X_test, y_train, y_test = train_test_split(X, y, test_size=0.2, random_state=0)\n",
        "\n",
        "scaler = StandardScaler()\n",
        "X_st = scaler.fit_transform(X_train)\n",
        "X_st_test = scaler.fit_transform(X_test)\n",
        "\n",
        "svc_rbf=SVC(kernel='rbf', C=2, gamma=2, class_weight='balanced', random_state=0, probability=True)\n",
        "svc_rbf.fit(X_st, y_train)\n",
        "predictions_rbf=svc_rbf.predict(X_st_test)\n",
        "\n",
        "yhat = svc_rbf.predict_proba(X_st_test)\n",
        "pos_probs = yhat[:, 1]\n",
        "# calculate the precision-recall auc\n",
        "precision, recall, _ = precision_recall_curve(y_test, pos_probs)\n",
        "auc_score = auc(recall, precision)\n",
        "print('PR AUC: %.3f' % auc_score)\n",
        "\n",
        "disp = plot_precision_recall_curve(svc_rbf, X_st_test, y_test)\n"
      ],
      "execution_count": null,
      "outputs": [
        {
          "output_type": "stream",
          "text": [
            "PR AUC: 0.642\n"
          ],
          "name": "stdout"
        },
        {
          "output_type": "display_data",
          "data": {
            "image/png": "[encoded data removed]",
            "text/plain": [
              "<Figure size 432x288 with 1 Axes>"
            ]
          },
          "metadata": {
            "tags": [],
            "needs_background": "light"
          }
        }
      ]
    },
    {
      "cell_type": "code",
      "metadata": {
        "id": "db0h2H3X9j-X",
        "colab": {
          "base_uri": "https://localhost:8080/",
          "height": 296
        },
        "outputId": "4e6956bb-362a-4b59-e54e-3112b5ab5341"
      },
      "source": [
        "X = df22_dropped.drop(columns=['org_uuid', 'went_public_on', 'valuation_price_usd', 'founded_on', 'went_public_in_n_years', 'region', 'raised_amount_usd_median'])\n",
        "y = df22_dropped.went_public_in_n_years.astype(int)\n",
        "\n",
        "\n",
        "\n",
        "X_train, X_test, y_train, y_test = train_test_split(X, y, test_size=0.2, random_state=0)\n",
        "\n",
        "scaler = StandardScaler()\n",
        "X_st = scaler.fit_transform(X_train)\n",
        "X_st_test = scaler.fit_transform(X_test)\n",
        "\n",
        "svc_rbf=SVC(kernel='rbf', C=2, gamma=2, class_weight='balanced', random_state=0, probability=True)\n",
        "svc_rbf.fit(X_st, y_train)\n",
        "predictions_rbf=svc_rbf.predict(X_st_test)\n",
        "\n",
        "yhat = svc_rbf.predict_proba(X_st_test)\n",
        "pos_probs = yhat[:, 1]\n",
        "# calculate the precision-recall auc\n",
        "precision, recall, _ = precision_recall_curve(y_test, pos_probs)\n",
        "auc_score = auc(recall, precision)\n",
        "print('PR AUC: %.3f' % auc_score)\n",
        "\n",
        "disp = plot_precision_recall_curve(svc_rbf, X_st_test, y_test)\n"
      ],
      "execution_count": null,
      "outputs": [
        {
          "output_type": "stream",
          "text": [
            "PR AUC: 0.651\n"
          ],
          "name": "stdout"
        },
        {
          "output_type": "display_data",
          "data": {
            "image/png": "[encoded data removed]",
            "text/plain": [
              "<Figure size 432x288 with 1 Axes>"
            ]
          },
          "metadata": {
            "tags": [],
            "needs_background": "light"
          }
        }
      ]
    },
    {
      "cell_type": "code",
      "metadata": {
        "id": "HEbS_PdI97YL",
        "colab": {
          "base_uri": "https://localhost:8080/"
        },
        "outputId": "043c7dcd-8156-4378-d1ab-189451b3d1a7"
      },
      "source": [
        "X = df22_dropped.drop(columns=['org_uuid', 'went_public_on', 'valuation_price_usd', 'founded_on', 'went_public_in_n_years', 'region', 'raised_amount_usd_max'])\n",
        "y = df22_dropped.went_public_in_n_years.astype(int)\n",
        "\n",
        "\n",
        "\n",
        "X_train, X_test, y_train, y_test = train_test_split(X, y, test_size=0.2, random_state=0)\n",
        "\n",
        "scaler = StandardScaler()\n",
        "X_st = scaler.fit_transform(X_train)\n",
        "X_st_test = scaler.fit_transform(X_test)\n",
        "\n",
        "svc_rbf=SVC(kernel='rbf', C=2, gamma=2, class_weight='balanced', random_state=0, probability=True)\n",
        "svc_rbf.fit(X_st, y_train)\n",
        "predictions_rbf=svc_rbf.predict(X_st_test)\n",
        "\n",
        "yhat = svc_rbf.predict_proba(X_st_test)\n",
        "pos_probs = yhat[:, 1]\n",
        "# calculate the precision-recall auc\n",
        "precision, recall, _ = precision_recall_curve(y_test, pos_probs)\n",
        "auc_score = auc(recall, precision)\n",
        "print('PR AUC: %.3f' % auc_score)\n",
        "\n",
        "disp = plot_precision_recall_curve(svc_rbf, X_st_test, y_test)\n"
      ],
      "execution_count": null,
      "outputs": [
        {
          "output_type": "stream",
          "text": [
            "PR AUC: 0.652\n"
          ],
          "name": "stdout"
        },
        {
          "output_type": "display_data",
          "data": {
            "image/png": "[encoded data removed]",
            "text/plain": [
              "<Figure size 432x288 with 1 Axes>"
            ]
          },
          "metadata": {
            "tags": [],
            "needs_background": "light"
          }
        }
      ]
    },
    {
      "cell_type": "code",
      "metadata": {
        "id": "S28uTePH-Icf",
        "colab": {
          "base_uri": "https://localhost:8080/",
          "height": 296
        },
        "outputId": "81551dc5-4735-496b-c434-1ce825416dfd"
      },
      "source": [
        "X = df22_dropped.drop(columns=['org_uuid', 'went_public_on', 'valuation_price_usd', 'founded_on', 'went_public_in_n_years', 'region', 'raised_amount_usd_min'])\n",
        "y = df22_dropped.went_public_in_n_years.astype(int)\n",
        "\n",
        "\n",
        "\n",
        "X_train, X_test, y_train, y_test = train_test_split(X, y, test_size=0.2, random_state=0)\n",
        "\n",
        "scaler = StandardScaler()\n",
        "X_st = scaler.fit_transform(X_train)\n",
        "X_st_test = scaler.fit_transform(X_test)\n",
        "\n",
        "svc_rbf=SVC(kernel='rbf', C=2, gamma=2, class_weight='balanced', random_state=0, probability=True)\n",
        "svc_rbf.fit(X_st, y_train)\n",
        "predictions_rbf=svc_rbf.predict(X_st_test)\n",
        "\n",
        "yhat = svc_rbf.predict_proba(X_st_test)\n",
        "pos_probs = yhat[:, 1]\n",
        "# calculate the precision-recall auc\n",
        "precision, recall, _ = precision_recall_curve(y_test, pos_probs)\n",
        "auc_score = auc(recall, precision)\n",
        "print('PR AUC: %.3f' % auc_score)\n",
        "\n",
        "disp = plot_precision_recall_curve(svc_rbf, X_st_test, y_test)\n"
      ],
      "execution_count": null,
      "outputs": [
        {
          "output_type": "stream",
          "text": [
            "PR AUC: 0.656\n"
          ],
          "name": "stdout"
        },
        {
          "output_type": "display_data",
          "data": {
            "image/png": "[encoded data removed]",
            "text/plain": [
              "<Figure size 432x288 with 1 Axes>"
            ]
          },
          "metadata": {
            "tags": [],
            "needs_background": "light"
          }
        }
      ]
    },
    {
      "cell_type": "code",
      "metadata": {
        "id": "E9_woX-M9vt6",
        "colab": {
          "base_uri": "https://localhost:8080/"
        },
        "outputId": "30bc00f1-dc00-4911-cd7d-b7dd8785f659"
      },
      "source": [
        "organizations.category_groups_list"
      ],
      "execution_count": null,
      "outputs": [
        {
          "output_type": "execute_result",
          "data": {
            "text/plain": [
              "0          Content and Publishing,Internet Services,Media...\n",
              "1          Information Technology,Internet Services,Priva...\n",
              "2                  Internet Services,Media and Entertainment\n",
              "3          Financial Services,Lending and Investments,Sof...\n",
              "4          Apps,Commerce and Shopping,Content and Publish...\n",
              "                                 ...                        \n",
              "1129753    Consumer Electronics,Hardware,Information Tech...\n",
              "1129754                                Commerce and Shopping\n",
              "1129755                                          Health Care\n",
              "1129756                                                  NaN\n",
              "1129757    Advertising,Commerce and Shopping,Sales and Ma...\n",
              "Name: category_groups_list, Length: 1129758, dtype: object"
            ]
          },
          "metadata": {
            "tags": []
          },
          "execution_count": 20
        }
      ]
    },
    {
      "cell_type": "code",
      "metadata": {
        "id": "spMIr-MQ_3M6",
        "colab": {
          "base_uri": "https://localhost:8080/"
        },
        "outputId": "4d2c408f-78e0-447c-fde5-57d379bea281"
      },
      "source": [
        "n_top_regions = 7\n",
        "top_regions = df21.region.value_counts()[:n_top_regions]\n",
        "def delete_unpopular_regions(row):\n",
        "  global top_regions\n",
        "  if not row.region in top_regions.index:\n",
        "    row.region = 'Other'\n",
        "  return row\n",
        "df31 = df22_dropped.apply(delete_unpopular_regions, axis=1)\n",
        "df31 = df31.merge(pd.get_dummies(df31.region, prefix='Region'), left_index=True, right_index=True, how='left')\n",
        "\n",
        "df31.groupby('region')['went_public_in_n_years'].mean()\n"
      ],
      "execution_count": null,
      "outputs": [
        {
          "output_type": "execute_result",
          "data": {
            "text/plain": [
              "region\n",
              "Beijing          0.400000\n",
              "California       0.628319\n",
              "Illinois         0.500000\n",
              "Massachusetts    0.530303\n",
              "New York         0.428571\n",
              "Other            0.453901\n",
              "Pennsylvania     0.533333\n",
              "Texas            0.516129\n",
              "Name: went_public_in_n_years, dtype: float64"
            ]
          },
          "metadata": {
            "tags": []
          },
          "execution_count": 21
        }
      ]
    },
    {
      "cell_type": "code",
      "metadata": {
        "id": "fgXhKVsxx9O3",
        "colab": {
          "base_uri": "https://localhost:8080/",
          "height": 296
        },
        "outputId": "12ad2e79-fc24-4be8-ffde-e73107c64efd"
      },
      "source": [
        "\n",
        "X = df31.drop(columns=['org_uuid', 'went_public_on', 'valuation_price_usd', 'founded_on', 'went_public_in_n_years', 'region'])\n",
        "y = df31.went_public_in_n_years.astype(int)\n",
        "\n",
        "\n",
        "\n",
        "X_train, X_test, y_train, y_test = train_test_split(X, y, test_size=0.2, random_state=13)\n",
        "\n",
        "scaler = StandardScaler()\n",
        "X_st = scaler.fit_transform(X_train)\n",
        "X_st_test = scaler.fit_transform(X_test)\n",
        "\n",
        "svc_rbf=SVC(kernel='rbf', C=2, gamma=2, class_weight='balanced', random_state=0, probability=True)\n",
        "svc_rbf.fit(X_st, y_train)\n",
        "predictions_rbf=svc_rbf.predict(X_st_test)\n",
        "\n",
        "yhat = svc_rbf.predict_proba(X_st_test)\n",
        "pos_probs = yhat[:, 1]\n",
        "# calculate the precision-recall auc\n",
        "precision, recall, _ = precision_recall_curve(y_test, pos_probs)\n",
        "auc_score = auc(recall, precision)\n",
        "print('PR AUC: %.3f' % auc_score)\n",
        "disp = plot_precision_recall_curve(svc_rbf, X_st_test, y_test)"
      ],
      "execution_count": null,
      "outputs": [
        {
          "output_type": "stream",
          "text": [
            "PR AUC: 0.734\n"
          ],
          "name": "stdout"
        },
        {
          "output_type": "display_data",
          "data": {
            "image/png": "[encoded data removed]",
            "text/plain": [
              "<Figure size 432x288 with 1 Axes>"
            ]
          },
          "metadata": {
            "tags": [],
            "needs_background": "light"
          }
        }
      ]
    },
    {
      "cell_type": "code",
      "metadata": {
        "id": "Zn-E1P3aTrs_",
        "colab": {
          "base_uri": "https://localhost:8080/"
        },
        "outputId": "f784c579-6012-4fc5-8f0d-30a5ad1a57b9"
      },
      "source": [
        "n_top_schools = 5\n",
        "top_schools = degrees.institution_name.value_counts()[:n_top_regions]\n",
        "def delete_unpopular_schools(row):\n",
        "  global top_schools\n",
        "  if not row.institution_name in top_schools.index:\n",
        "    row.institution_name = 'Other'\n",
        "  return row\n",
        "degrees.apply(delete_unpopular_schools, axis=1)"
      ],
      "execution_count": null,
      "outputs": [
        {
          "output_type": "execute_result",
          "data": {
            "text/html": [
              "<div>\n",
              "<style scoped>\n",
              "    .dataframe tbody tr th:only-of-type {\n",
              "        vertical-align: middle;\n",
              "    }\n",
              "\n",
              "    .dataframe tbody tr th {\n",
              "        vertical-align: top;\n",
              "    }\n",
              "\n",
              "    .dataframe thead th {\n",
              "        text-align: right;\n",
              "    }\n",
              "</style>\n",
              "<table border=\"1\" class=\"dataframe\">\n",
              "  <thead>\n",
              "    <tr style=\"text-align: right;\">\n",
              "      <th></th>\n",
              "      <th>uuid</th>\n",
              "      <th>name</th>\n",
              "      <th>type</th>\n",
              "      <th>permalink</th>\n",
              "      <th>cb_url</th>\n",
              "      <th>rank</th>\n",
              "      <th>created_at</th>\n",
              "      <th>updated_at</th>\n",
              "      <th>person_uuid</th>\n",
              "      <th>person_name</th>\n",
              "      <th>institution_uuid</th>\n",
              "      <th>institution_name</th>\n",
              "      <th>degree_type</th>\n",
              "      <th>subject</th>\n",
              "      <th>started_on</th>\n",
              "      <th>completed_on</th>\n",
              "      <th>is_completed</th>\n",
              "    </tr>\n",
              "  </thead>\n",
              "  <tbody>\n",
              "    <tr>\n",
              "      <th>0</th>\n",
              "      <td>205fdfd1-ecac-aa43-262f-219f11755f67</td>\n",
              "      <td>MS  Mass Communication @ Boston University</td>\n",
              "      <td>degree</td>\n",
              "      <td>NaN</td>\n",
              "      <td>NaN</td>\n",
              "      <td>NaN</td>\n",
              "      <td>2008-02-19 17:58:31</td>\n",
              "      <td>2018-02-13 01:40:03</td>\n",
              "      <td>4897dba9-3141-ecc0-2c4b-c9d844e6440f</td>\n",
              "      <td>John Green</td>\n",
              "      <td>1eab62d2-15d9-0db7-930f-2aa77d4688e1</td>\n",
              "      <td>Other</td>\n",
              "      <td>MS</td>\n",
              "      <td>Mass Communication</td>\n",
              "      <td>NaN</td>\n",
              "      <td>1992-01-01</td>\n",
              "      <td>True</td>\n",
              "    </tr>\n",
              "    <tr>\n",
              "      <th>1</th>\n",
              "      <td>1a2ac288-eb99-3318-fde5-1517bc168f51</td>\n",
              "      <td>BA  English, French @ Washington University in...</td>\n",
              "      <td>degree</td>\n",
              "      <td>NaN</td>\n",
              "      <td>NaN</td>\n",
              "      <td>NaN</td>\n",
              "      <td>2008-02-19 17:58:31</td>\n",
              "      <td>2018-02-13 01:39:57</td>\n",
              "      <td>4897dba9-3141-ecc0-2c4b-c9d844e6440f</td>\n",
              "      <td>John Green</td>\n",
              "      <td>6ae9957a-8fb4-0ab1-73fa-dd547c4d3da4</td>\n",
              "      <td>Other</td>\n",
              "      <td>BA</td>\n",
              "      <td>English, French</td>\n",
              "      <td>NaN</td>\n",
              "      <td>1990-01-01</td>\n",
              "      <td>True</td>\n",
              "    </tr>\n",
              "    <tr>\n",
              "      <th>2</th>\n",
              "      <td>b978d338-7ccc-7469-5ce7-ef98c34155ad</td>\n",
              "      <td>MS  Internet Technology @ University of Greenwich</td>\n",
              "      <td>degree</td>\n",
              "      <td>NaN</td>\n",
              "      <td>NaN</td>\n",
              "      <td>NaN</td>\n",
              "      <td>2008-02-19 23:40:40</td>\n",
              "      <td>2018-02-13 01:43:09</td>\n",
              "      <td>7d187b77-94f7-e6cc-6981-d7468db5968f</td>\n",
              "      <td>Sridhar Gundaiah</td>\n",
              "      <td>b5ea73f6-12a3-576d-ae9b-f4169147f974</td>\n",
              "      <td>Other</td>\n",
              "      <td>MS</td>\n",
              "      <td>Internet Technology</td>\n",
              "      <td>NaN</td>\n",
              "      <td>2006-01-01</td>\n",
              "      <td>True</td>\n",
              "    </tr>\n",
              "    <tr>\n",
              "      <th>3</th>\n",
              "      <td>d01cfaad-0ccc-631e-0382-1e507bf6ba04</td>\n",
              "      <td>BS  Computer Science @ Northeastern University</td>\n",
              "      <td>degree</td>\n",
              "      <td>NaN</td>\n",
              "      <td>NaN</td>\n",
              "      <td>NaN</td>\n",
              "      <td>2008-02-21 01:31:01</td>\n",
              "      <td>2018-02-13 01:43:33</td>\n",
              "      <td>45e29113-19f9-c828-68d0-42ad2ef04da0</td>\n",
              "      <td>John Furrier</td>\n",
              "      <td>5f84d9fa-78fd-14b0-d335-5ac3561cdc0a</td>\n",
              "      <td>Other</td>\n",
              "      <td>BS</td>\n",
              "      <td>Computer Science</td>\n",
              "      <td>NaN</td>\n",
              "      <td>1988-01-01</td>\n",
              "      <td>True</td>\n",
              "    </tr>\n",
              "    <tr>\n",
              "      <th>4</th>\n",
              "      <td>16a607f5-8ab3-573e-8d09-57b3e352e1d3</td>\n",
              "      <td>BS  Computer Science @ Rochester Institute of ...</td>\n",
              "      <td>degree</td>\n",
              "      <td>NaN</td>\n",
              "      <td>NaN</td>\n",
              "      <td>NaN</td>\n",
              "      <td>2008-02-21 01:31:34</td>\n",
              "      <td>2018-02-13 01:39:53</td>\n",
              "      <td>b3b4ec6b-86fe-dd6e-ec8a-e8e7e999f274</td>\n",
              "      <td>Ian Reardon</td>\n",
              "      <td>1a380593-fb9d-7f7b-ae67-784ce3ff3690</td>\n",
              "      <td>Other</td>\n",
              "      <td>BS</td>\n",
              "      <td>Computer Science</td>\n",
              "      <td>NaN</td>\n",
              "      <td>2002-01-01</td>\n",
              "      <td>True</td>\n",
              "    </tr>\n",
              "    <tr>\n",
              "      <th>...</th>\n",
              "      <td>...</td>\n",
              "      <td>...</td>\n",
              "      <td>...</td>\n",
              "      <td>...</td>\n",
              "      <td>...</td>\n",
              "      <td>...</td>\n",
              "      <td>...</td>\n",
              "      <td>...</td>\n",
              "      <td>...</td>\n",
              "      <td>...</td>\n",
              "      <td>...</td>\n",
              "      <td>...</td>\n",
              "      <td>...</td>\n",
              "      <td>...</td>\n",
              "      <td>...</td>\n",
              "      <td>...</td>\n",
              "      <td>...</td>\n",
              "    </tr>\n",
              "    <tr>\n",
              "      <th>365744</th>\n",
              "      <td>9e713153-1cab-4b3a-b921-2e438b400535</td>\n",
              "      <td>Bachelors of Science  Biology &amp; Psychology @ T...</td>\n",
              "      <td>degree</td>\n",
              "      <td>NaN</td>\n",
              "      <td>NaN</td>\n",
              "      <td>NaN</td>\n",
              "      <td>2020-09-07 19:36:14</td>\n",
              "      <td>2020-09-07 19:36:14</td>\n",
              "      <td>53023487-4d35-4eb2-837e-43cebaa9a0db</td>\n",
              "      <td>Nadine Ngu</td>\n",
              "      <td>8fea5416-d418-ede2-3a45-43507decf319</td>\n",
              "      <td>Other</td>\n",
              "      <td>Bachelors of Science</td>\n",
              "      <td>Biology &amp; Psychology</td>\n",
              "      <td>NaN</td>\n",
              "      <td>NaN</td>\n",
              "      <td>False</td>\n",
              "    </tr>\n",
              "    <tr>\n",
              "      <th>365745</th>\n",
              "      <td>37af6036-3836-4416-9f15-8c065108f45e</td>\n",
              "      <td>Masters  Psychology @ Assumption College</td>\n",
              "      <td>degree</td>\n",
              "      <td>NaN</td>\n",
              "      <td>NaN</td>\n",
              "      <td>NaN</td>\n",
              "      <td>2020-09-07 19:51:14</td>\n",
              "      <td>2020-09-07 19:51:14</td>\n",
              "      <td>53023487-4d35-4eb2-837e-43cebaa9a0db</td>\n",
              "      <td>Nadine Ngu</td>\n",
              "      <td>7215a531-3451-878c-d150-e0aaee78282c</td>\n",
              "      <td>Other</td>\n",
              "      <td>Masters</td>\n",
              "      <td>Psychology</td>\n",
              "      <td>NaN</td>\n",
              "      <td>NaN</td>\n",
              "      <td>False</td>\n",
              "    </tr>\n",
              "    <tr>\n",
              "      <th>365746</th>\n",
              "      <td>4202c2a8-d9c0-4b84-ad57-4383b36e8e0f</td>\n",
              "      <td>MSc  Computer Science / Artificial Intelligenc...</td>\n",
              "      <td>degree</td>\n",
              "      <td>NaN</td>\n",
              "      <td>NaN</td>\n",
              "      <td>NaN</td>\n",
              "      <td>2020-09-07 19:59:51</td>\n",
              "      <td>2020-09-07 19:59:51</td>\n",
              "      <td>6dbad6d0-1569-4bde-9760-a018060cadfd</td>\n",
              "      <td>Hinrik Josafat Atlason</td>\n",
              "      <td>29a141fc-2498-2695-fa94-b6aba8373780</td>\n",
              "      <td>Other</td>\n",
              "      <td>MSc</td>\n",
              "      <td>Computer Science / Artificial Intelligence</td>\n",
              "      <td>2004-09-01</td>\n",
              "      <td>2005-08-31</td>\n",
              "      <td>True</td>\n",
              "    </tr>\n",
              "    <tr>\n",
              "      <th>365747</th>\n",
              "      <td>ab748251-9330-4d6e-9f29-0e7b250d2373</td>\n",
              "      <td>PhD  Physical Chemistry @ University of Califo...</td>\n",
              "      <td>degree</td>\n",
              "      <td>NaN</td>\n",
              "      <td>NaN</td>\n",
              "      <td>NaN</td>\n",
              "      <td>2020-09-07 20:44:50</td>\n",
              "      <td>2020-09-07 20:44:50</td>\n",
              "      <td>827a407d-313c-4e11-8351-7d38a94e2610</td>\n",
              "      <td>Wojciech Osowiecki</td>\n",
              "      <td>10f9a25b-9675-2281-486e-a52955c706df</td>\n",
              "      <td>University of California, Berkeley</td>\n",
              "      <td>PhD</td>\n",
              "      <td>Physical Chemistry</td>\n",
              "      <td>NaN</td>\n",
              "      <td>2019-05-01</td>\n",
              "      <td>True</td>\n",
              "    </tr>\n",
              "    <tr>\n",
              "      <th>365748</th>\n",
              "      <td>31bf3438-5a6c-4088-9862-cb4caf2d215c</td>\n",
              "      <td>B.S./M.S.  Chemistry @ Yale University</td>\n",
              "      <td>degree</td>\n",
              "      <td>NaN</td>\n",
              "      <td>NaN</td>\n",
              "      <td>NaN</td>\n",
              "      <td>2020-09-07 20:44:50</td>\n",
              "      <td>2020-09-07 20:44:50</td>\n",
              "      <td>827a407d-313c-4e11-8351-7d38a94e2610</td>\n",
              "      <td>Wojciech Osowiecki</td>\n",
              "      <td>dcb99002-9225-c513-27c6-9002b6103bc0</td>\n",
              "      <td>Other</td>\n",
              "      <td>B.S./M.S.</td>\n",
              "      <td>Chemistry</td>\n",
              "      <td>NaN</td>\n",
              "      <td>2014-05-01</td>\n",
              "      <td>True</td>\n",
              "    </tr>\n",
              "  </tbody>\n",
              "</table>\n",
              "<p>365749 rows × 17 columns</p>\n",
              "</div>"
            ],
            "text/plain": [
              "                                        uuid  ... is_completed\n",
              "0       205fdfd1-ecac-aa43-262f-219f11755f67  ...         True\n",
              "1       1a2ac288-eb99-3318-fde5-1517bc168f51  ...         True\n",
              "2       b978d338-7ccc-7469-5ce7-ef98c34155ad  ...         True\n",
              "3       d01cfaad-0ccc-631e-0382-1e507bf6ba04  ...         True\n",
              "4       16a607f5-8ab3-573e-8d09-57b3e352e1d3  ...         True\n",
              "...                                      ...  ...          ...\n",
              "365744  9e713153-1cab-4b3a-b921-2e438b400535  ...        False\n",
              "365745  37af6036-3836-4416-9f15-8c065108f45e  ...        False\n",
              "365746  4202c2a8-d9c0-4b84-ad57-4383b36e8e0f  ...         True\n",
              "365747  ab748251-9330-4d6e-9f29-0e7b250d2373  ...         True\n",
              "365748  31bf3438-5a6c-4088-9862-cb4caf2d215c  ...         True\n",
              "\n",
              "[365749 rows x 17 columns]"
            ]
          },
          "metadata": {
            "tags": []
          },
          "execution_count": 23
        }
      ]
    },
    {
      "cell_type": "code",
      "metadata": {
        "id": "IT2lR2ZhT_2Z",
        "colab": {
          "base_uri": "https://localhost:8080/"
        },
        "outputId": "35c067fb-3e1f-44cc-a760-3b9825a53d38"
      },
      "source": [
        "jobs = jobs.dropna(subset=['title'])\n",
        "degrees\n"
      ],
      "execution_count": null,
      "outputs": [
        {
          "output_type": "execute_result",
          "data": {
            "text/html": [
              "<div>\n",
              "<style scoped>\n",
              "    .dataframe tbody tr th:only-of-type {\n",
              "        vertical-align: middle;\n",
              "    }\n",
              "\n",
              "    .dataframe tbody tr th {\n",
              "        vertical-align: top;\n",
              "    }\n",
              "\n",
              "    .dataframe thead th {\n",
              "        text-align: right;\n",
              "    }\n",
              "</style>\n",
              "<table border=\"1\" class=\"dataframe\">\n",
              "  <thead>\n",
              "    <tr style=\"text-align: right;\">\n",
              "      <th></th>\n",
              "      <th>uuid</th>\n",
              "      <th>name</th>\n",
              "      <th>type</th>\n",
              "      <th>permalink</th>\n",
              "      <th>cb_url</th>\n",
              "      <th>rank</th>\n",
              "      <th>created_at</th>\n",
              "      <th>updated_at</th>\n",
              "      <th>person_uuid</th>\n",
              "      <th>person_name</th>\n",
              "      <th>institution_uuid</th>\n",
              "      <th>institution_name</th>\n",
              "      <th>degree_type</th>\n",
              "      <th>subject</th>\n",
              "      <th>started_on</th>\n",
              "      <th>completed_on</th>\n",
              "      <th>is_completed</th>\n",
              "    </tr>\n",
              "  </thead>\n",
              "  <tbody>\n",
              "    <tr>\n",
              "      <th>0</th>\n",
              "      <td>205fdfd1-ecac-aa43-262f-219f11755f67</td>\n",
              "      <td>MS  Mass Communication @ Boston University</td>\n",
              "      <td>degree</td>\n",
              "      <td>NaN</td>\n",
              "      <td>NaN</td>\n",
              "      <td>NaN</td>\n",
              "      <td>2008-02-19 17:58:31</td>\n",
              "      <td>2018-02-13 01:40:03</td>\n",
              "      <td>4897dba9-3141-ecc0-2c4b-c9d844e6440f</td>\n",
              "      <td>John Green</td>\n",
              "      <td>1eab62d2-15d9-0db7-930f-2aa77d4688e1</td>\n",
              "      <td>Boston University</td>\n",
              "      <td>MS</td>\n",
              "      <td>Mass Communication</td>\n",
              "      <td>NaN</td>\n",
              "      <td>1992-01-01</td>\n",
              "      <td>True</td>\n",
              "    </tr>\n",
              "    <tr>\n",
              "      <th>1</th>\n",
              "      <td>1a2ac288-eb99-3318-fde5-1517bc168f51</td>\n",
              "      <td>BA  English, French @ Washington University in...</td>\n",
              "      <td>degree</td>\n",
              "      <td>NaN</td>\n",
              "      <td>NaN</td>\n",
              "      <td>NaN</td>\n",
              "      <td>2008-02-19 17:58:31</td>\n",
              "      <td>2018-02-13 01:39:57</td>\n",
              "      <td>4897dba9-3141-ecc0-2c4b-c9d844e6440f</td>\n",
              "      <td>John Green</td>\n",
              "      <td>6ae9957a-8fb4-0ab1-73fa-dd547c4d3da4</td>\n",
              "      <td>Washington University in St. Louis</td>\n",
              "      <td>BA</td>\n",
              "      <td>English, French</td>\n",
              "      <td>NaN</td>\n",
              "      <td>1990-01-01</td>\n",
              "      <td>True</td>\n",
              "    </tr>\n",
              "    <tr>\n",
              "      <th>2</th>\n",
              "      <td>b978d338-7ccc-7469-5ce7-ef98c34155ad</td>\n",
              "      <td>MS  Internet Technology @ University of Greenwich</td>\n",
              "      <td>degree</td>\n",
              "      <td>NaN</td>\n",
              "      <td>NaN</td>\n",
              "      <td>NaN</td>\n",
              "      <td>2008-02-19 23:40:40</td>\n",
              "      <td>2018-02-13 01:43:09</td>\n",
              "      <td>7d187b77-94f7-e6cc-6981-d7468db5968f</td>\n",
              "      <td>Sridhar Gundaiah</td>\n",
              "      <td>b5ea73f6-12a3-576d-ae9b-f4169147f974</td>\n",
              "      <td>University of Greenwich</td>\n",
              "      <td>MS</td>\n",
              "      <td>Internet Technology</td>\n",
              "      <td>NaN</td>\n",
              "      <td>2006-01-01</td>\n",
              "      <td>True</td>\n",
              "    </tr>\n",
              "    <tr>\n",
              "      <th>3</th>\n",
              "      <td>d01cfaad-0ccc-631e-0382-1e507bf6ba04</td>\n",
              "      <td>BS  Computer Science @ Northeastern University</td>\n",
              "      <td>degree</td>\n",
              "      <td>NaN</td>\n",
              "      <td>NaN</td>\n",
              "      <td>NaN</td>\n",
              "      <td>2008-02-21 01:31:01</td>\n",
              "      <td>2018-02-13 01:43:33</td>\n",
              "      <td>45e29113-19f9-c828-68d0-42ad2ef04da0</td>\n",
              "      <td>John Furrier</td>\n",
              "      <td>5f84d9fa-78fd-14b0-d335-5ac3561cdc0a</td>\n",
              "      <td>Northeastern University</td>\n",
              "      <td>BS</td>\n",
              "      <td>Computer Science</td>\n",
              "      <td>NaN</td>\n",
              "      <td>1988-01-01</td>\n",
              "      <td>True</td>\n",
              "    </tr>\n",
              "    <tr>\n",
              "      <th>4</th>\n",
              "      <td>16a607f5-8ab3-573e-8d09-57b3e352e1d3</td>\n",
              "      <td>BS  Computer Science @ Rochester Institute of ...</td>\n",
              "      <td>degree</td>\n",
              "      <td>NaN</td>\n",
              "      <td>NaN</td>\n",
              "      <td>NaN</td>\n",
              "      <td>2008-02-21 01:31:34</td>\n",
              "      <td>2018-02-13 01:39:53</td>\n",
              "      <td>b3b4ec6b-86fe-dd6e-ec8a-e8e7e999f274</td>\n",
              "      <td>Ian Reardon</td>\n",
              "      <td>1a380593-fb9d-7f7b-ae67-784ce3ff3690</td>\n",
              "      <td>Rochester Institute of Technology</td>\n",
              "      <td>BS</td>\n",
              "      <td>Computer Science</td>\n",
              "      <td>NaN</td>\n",
              "      <td>2002-01-01</td>\n",
              "      <td>True</td>\n",
              "    </tr>\n",
              "    <tr>\n",
              "      <th>...</th>\n",
              "      <td>...</td>\n",
              "      <td>...</td>\n",
              "      <td>...</td>\n",
              "      <td>...</td>\n",
              "      <td>...</td>\n",
              "      <td>...</td>\n",
              "      <td>...</td>\n",
              "      <td>...</td>\n",
              "      <td>...</td>\n",
              "      <td>...</td>\n",
              "      <td>...</td>\n",
              "      <td>...</td>\n",
              "      <td>...</td>\n",
              "      <td>...</td>\n",
              "      <td>...</td>\n",
              "      <td>...</td>\n",
              "      <td>...</td>\n",
              "    </tr>\n",
              "    <tr>\n",
              "      <th>365744</th>\n",
              "      <td>9e713153-1cab-4b3a-b921-2e438b400535</td>\n",
              "      <td>Bachelors of Science  Biology &amp; Psychology @ T...</td>\n",
              "      <td>degree</td>\n",
              "      <td>NaN</td>\n",
              "      <td>NaN</td>\n",
              "      <td>NaN</td>\n",
              "      <td>2020-09-07 19:36:14</td>\n",
              "      <td>2020-09-07 19:36:14</td>\n",
              "      <td>53023487-4d35-4eb2-837e-43cebaa9a0db</td>\n",
              "      <td>Nadine Ngu</td>\n",
              "      <td>8fea5416-d418-ede2-3a45-43507decf319</td>\n",
              "      <td>The University of Georgia</td>\n",
              "      <td>Bachelors of Science</td>\n",
              "      <td>Biology &amp; Psychology</td>\n",
              "      <td>NaN</td>\n",
              "      <td>NaN</td>\n",
              "      <td>False</td>\n",
              "    </tr>\n",
              "    <tr>\n",
              "      <th>365745</th>\n",
              "      <td>37af6036-3836-4416-9f15-8c065108f45e</td>\n",
              "      <td>Masters  Psychology @ Assumption College</td>\n",
              "      <td>degree</td>\n",
              "      <td>NaN</td>\n",
              "      <td>NaN</td>\n",
              "      <td>NaN</td>\n",
              "      <td>2020-09-07 19:51:14</td>\n",
              "      <td>2020-09-07 19:51:14</td>\n",
              "      <td>53023487-4d35-4eb2-837e-43cebaa9a0db</td>\n",
              "      <td>Nadine Ngu</td>\n",
              "      <td>7215a531-3451-878c-d150-e0aaee78282c</td>\n",
              "      <td>Assumption College</td>\n",
              "      <td>Masters</td>\n",
              "      <td>Psychology</td>\n",
              "      <td>NaN</td>\n",
              "      <td>NaN</td>\n",
              "      <td>False</td>\n",
              "    </tr>\n",
              "    <tr>\n",
              "      <th>365746</th>\n",
              "      <td>4202c2a8-d9c0-4b84-ad57-4383b36e8e0f</td>\n",
              "      <td>MSc  Computer Science / Artificial Intelligenc...</td>\n",
              "      <td>degree</td>\n",
              "      <td>NaN</td>\n",
              "      <td>NaN</td>\n",
              "      <td>NaN</td>\n",
              "      <td>2020-09-07 19:59:51</td>\n",
              "      <td>2020-09-07 19:59:51</td>\n",
              "      <td>6dbad6d0-1569-4bde-9760-a018060cadfd</td>\n",
              "      <td>Hinrik Josafat Atlason</td>\n",
              "      <td>29a141fc-2498-2695-fa94-b6aba8373780</td>\n",
              "      <td>University of Essex</td>\n",
              "      <td>MSc</td>\n",
              "      <td>Computer Science / Artificial Intelligence</td>\n",
              "      <td>2004-09-01</td>\n",
              "      <td>2005-08-31</td>\n",
              "      <td>True</td>\n",
              "    </tr>\n",
              "    <tr>\n",
              "      <th>365747</th>\n",
              "      <td>ab748251-9330-4d6e-9f29-0e7b250d2373</td>\n",
              "      <td>PhD  Physical Chemistry @ University of Califo...</td>\n",
              "      <td>degree</td>\n",
              "      <td>NaN</td>\n",
              "      <td>NaN</td>\n",
              "      <td>NaN</td>\n",
              "      <td>2020-09-07 20:44:50</td>\n",
              "      <td>2020-09-07 20:44:50</td>\n",
              "      <td>827a407d-313c-4e11-8351-7d38a94e2610</td>\n",
              "      <td>Wojciech Osowiecki</td>\n",
              "      <td>10f9a25b-9675-2281-486e-a52955c706df</td>\n",
              "      <td>University of California, Berkeley</td>\n",
              "      <td>PhD</td>\n",
              "      <td>Physical Chemistry</td>\n",
              "      <td>NaN</td>\n",
              "      <td>2019-05-01</td>\n",
              "      <td>True</td>\n",
              "    </tr>\n",
              "    <tr>\n",
              "      <th>365748</th>\n",
              "      <td>31bf3438-5a6c-4088-9862-cb4caf2d215c</td>\n",
              "      <td>B.S./M.S.  Chemistry @ Yale University</td>\n",
              "      <td>degree</td>\n",
              "      <td>NaN</td>\n",
              "      <td>NaN</td>\n",
              "      <td>NaN</td>\n",
              "      <td>2020-09-07 20:44:50</td>\n",
              "      <td>2020-09-07 20:44:50</td>\n",
              "      <td>827a407d-313c-4e11-8351-7d38a94e2610</td>\n",
              "      <td>Wojciech Osowiecki</td>\n",
              "      <td>dcb99002-9225-c513-27c6-9002b6103bc0</td>\n",
              "      <td>Yale University</td>\n",
              "      <td>B.S./M.S.</td>\n",
              "      <td>Chemistry</td>\n",
              "      <td>NaN</td>\n",
              "      <td>2014-05-01</td>\n",
              "      <td>True</td>\n",
              "    </tr>\n",
              "  </tbody>\n",
              "</table>\n",
              "<p>365749 rows × 17 columns</p>\n",
              "</div>"
            ],
            "text/plain": [
              "                                        uuid  ... is_completed\n",
              "0       205fdfd1-ecac-aa43-262f-219f11755f67  ...         True\n",
              "1       1a2ac288-eb99-3318-fde5-1517bc168f51  ...         True\n",
              "2       b978d338-7ccc-7469-5ce7-ef98c34155ad  ...         True\n",
              "3       d01cfaad-0ccc-631e-0382-1e507bf6ba04  ...         True\n",
              "4       16a607f5-8ab3-573e-8d09-57b3e352e1d3  ...         True\n",
              "...                                      ...  ...          ...\n",
              "365744  9e713153-1cab-4b3a-b921-2e438b400535  ...        False\n",
              "365745  37af6036-3836-4416-9f15-8c065108f45e  ...        False\n",
              "365746  4202c2a8-d9c0-4b84-ad57-4383b36e8e0f  ...         True\n",
              "365747  ab748251-9330-4d6e-9f29-0e7b250d2373  ...         True\n",
              "365748  31bf3438-5a6c-4088-9862-cb4caf2d215c  ...         True\n",
              "\n",
              "[365749 rows x 17 columns]"
            ]
          },
          "metadata": {
            "tags": []
          },
          "execution_count": 24
        }
      ]
    },
    {
      "cell_type": "code",
      "metadata": {
        "id": "ChN2N8tbJdLp"
      },
      "source": [
        "#people.featured_job_title.value_counts()\n",
        "def add_founder(row):\n",
        "  a = jobs[jobs.org_uuid == row.org_uuid] \n",
        "  a = a[a.title.isin(jobs[jobs.title.str.contains('Founder')].title.unique())]  \n",
        "  if a.shape[0] == 0:\n",
        "    return 'No info'\n",
        "  else:\n",
        "    a.started_on = pd.to_datetime(a.started_on)\n",
        "    a.sort_values(by=['started_on'])\n",
        "    b = a.iloc[0]\n",
        "    c = degrees[degrees.person_uuid == b.person_uuid].institution_name\n",
        "\n",
        "    if c.shape[0] > 1:\n",
        "      return str(c.iloc[0])\n",
        "    elif c.shape[0] == 1:\n",
        "      return str(c)\n",
        "    else:\n",
        "      return 'No info'  \n",
        "df32 = df31.apply(add_founder, axis=1)\n"
      ],
      "execution_count": null,
      "outputs": []
    },
    {
      "cell_type": "code",
      "metadata": {
        "id": "TQCpjB64LrLm"
      },
      "source": [
        "df32 = pd.DataFrame(df32)"
      ],
      "execution_count": null,
      "outputs": []
    },
    {
      "cell_type": "code",
      "metadata": {
        "id": "6Ep3einy1dTk"
      },
      "source": [
        "  df31 = df31.merge(df32, left_index=True, right_index=True, how='left')"
      ],
      "execution_count": null,
      "outputs": []
    },
    {
      "cell_type": "markdown",
      "metadata": {
        "id": "5xLIEgY4qb4z"
      },
      "source": [
        "#Тезисно: \n",
        "\n",
        "\n",
        "1.   \n",
        "\n",
        "2.  На сбалансированной выборке категориальные фичи не дают прироста\n",
        "\n",
        "3.  Попробовал брать другую кат. фичу -- образование не CEO, а Founder(должностей со словом Founder очень много, брал те, в которых оно содержится как подстрока). Не для каждой компании есть информация о Founder, ровно как и о первом CEO(видимо только +- актуальная по времени информация)\n",
        "\n",
        "4.  Распределение успешных компаний по образованию последнего CEO совпадает с распределением компаний в принципе по образованию => влияние образования слабое \n",
        "\n",
        "5. Подтянул данные с финансовых отчетностей (Второй датасет). Информация есть только за последние несколько лет соответственно нам не подходит.\n",
        "\n",
        "6. Следующие шаги, которые я вижу -- Посмотреть данные по инвесторам, построить граф, запустить gnn, посмотреть что будет\n",
        "\n",
        "\n"
      ]
    },
    {
      "cell_type": "code",
      "metadata": {
        "id": "0pqX5XdfpWFC"
      },
      "source": [
        "#df31 = df31.drop(columns='founder_education')"
      ],
      "execution_count": null,
      "outputs": []
    },
    {
      "cell_type": "markdown",
      "metadata": {
        "id": "iNzf7Y3AEhBy"
      },
      "source": [
        ""
      ]
    },
    {
      "cell_type": "code",
      "metadata": {
        "id": "FUUVqOpTJmM6"
      },
      "source": [
        "df31.rename(columns={0:'founder_education'}, inplace=True)"
      ],
      "execution_count": null,
      "outputs": []
    },
    {
      "cell_type": "code",
      "metadata": {
        "id": "e-z-9hgyvOGC"
      },
      "source": [
        "df31"
      ],
      "execution_count": null,
      "outputs": []
    },
    {
      "cell_type": "code",
      "metadata": {
        "id": "9b8MvBttM1Qa"
      },
      "source": [
        "n_top_unis = 6\n",
        "top_unis = df31.founder_education.value_counts()[:n_top_unis]\n",
        "def delete_unpopular_unis(row):\n",
        "  global top_unis\n",
        "  if not row.founder_education in top_unis.index:\n",
        "    row.founder_education = 'Other'\n",
        "  return row\n",
        "df33 = df31.apply(delete_unpopular_unis, axis=1)\n",
        "df33.founder_education.value_counts()"
      ],
      "execution_count": null,
      "outputs": []
    },
    {
      "cell_type": "code",
      "metadata": {
        "id": "4_wL2K5mGl3B"
      },
      "source": [
        "df33 = df33.merge(pd.get_dummies(df33.founder_education, prefix='edu'), left_index=True, right_index=True, how='left')\n"
      ],
      "execution_count": null,
      "outputs": []
    },
    {
      "cell_type": "code",
      "metadata": {
        "id": "NwU8UzGg07E2"
      },
      "source": [
        "x = list(df33.groupby('region')['went_public_in_n_years'].mean().sort_values().index)\n",
        "\n",
        "\n",
        "x_pos = [i for i, _ in enumerate(x)]\n",
        "\n",
        "plt.barh(x_pos, list(df33.groupby('region')['went_public_in_n_years'].mean().sort_values()))\n",
        "plt.xlabel(\"Percentage of successful companies\")\n",
        "plt.ylabel(\"Region of company\")\n",
        "plt.yticks(x_pos, x)\n",
        "\n",
        "\n",
        "plt.show()"
      ],
      "execution_count": null,
      "outputs": []
    },
    {
      "cell_type": "code",
      "metadata": {
        "id": "19StwB21OWxw"
      },
      "source": [
        "df33"
      ],
      "execution_count": null,
      "outputs": []
    },
    {
      "cell_type": "code",
      "metadata": {
        "id": "ofuXeTpVOtzn"
      },
      "source": [
        "\n",
        "X = df33.drop(columns=['org_uuid', 'went_public_on', 'valuation_price_usd', 'founded_on', 'went_public_in_n_years', 'region', 'founder_education'])\n",
        "y = df33.went_public_in_n_years.astype(int)\n",
        "\n",
        "\n",
        "\n",
        "X_train, X_test, y_train, y_test = train_test_split(X, y, test_size=0.2, random_state=13)\n",
        "\n",
        "scaler = StandardScaler()\n",
        "X_st = scaler.fit_transform(X_train)\n",
        "X_st_test = scaler.fit_transform(X_test)\n",
        "\n",
        "svc_rbf=SVC(kernel='rbf', C=2, gamma=2, class_weight='balanced', random_state=0, probability=True)\n",
        "svc_rbf.fit(X_st, y_train)\n",
        "predictions_rbf=svc_rbf.predict(X_st_test)\n",
        "\n",
        "yhat = svc_rbf.predict_proba(X_st_test)\n",
        "pos_probs = yhat[:, 1]\n",
        "# calculate the precision-recall auc\n",
        "precision, recall, _ = precision_recall_curve(y_test, pos_probs)\n",
        "auc_score = auc(recall, precision)\n",
        "print('PR AUC: %.3f' % auc_score)\n",
        "disp = plot_precision_recall_curve(svc_rbf, X_st_test, y_test)"
      ],
      "execution_count": null,
      "outputs": []
    },
    {
      "cell_type": "code",
      "metadata": {
        "id": "Y6wZBIiJgvev"
      },
      "source": [
        "x = list(df33.founder_education.value_counts().sort_values().index)\n",
        "\n",
        "\n",
        "x_pos = [i for i, _ in enumerate(x)]\n",
        "\n",
        "plt.barh(x_pos, list(df33.founder_education.value_counts().sort_values()))\n",
        "plt.xlabel(\"Number ofcompanies\")\n",
        "plt.ylabel(\"Founder's almamater\")\n",
        "plt.yticks(x_pos, x)\n",
        "\n",
        "\n",
        "plt.show()"
      ],
      "execution_count": null,
      "outputs": []
    },
    {
      "cell_type": "code",
      "metadata": {
        "id": "aKVRwfy4PdQ_"
      },
      "source": [
        "df33.groupby('founder_education')['went_public_in_n_years'].mean()"
      ],
      "execution_count": null,
      "outputs": []
    },
    {
      "cell_type": "code",
      "metadata": {
        "id": "Tpn14R08QpWp"
      },
      "source": [
        "x = list(df33.groupby('founder_education')['went_public_in_n_years'].mean().sort_values().index)\n",
        "\n",
        "\n",
        "\n",
        "x_pos = [i for i, _ in enumerate(x)]\n",
        "\n",
        "plt.barh(x_pos, list(df33.groupby('founder_education')['went_public_in_n_years'].mean().sort_values()))\n",
        "plt.xlabel(\"Percentage of successful companies\")\n",
        "plt.ylabel(\"Founder's almamater\")\n",
        "plt.yticks(x_pos, x)\n",
        "\n",
        "\n",
        "plt.show()"
      ],
      "execution_count": null,
      "outputs": []
    },
    {
      "cell_type": "code",
      "metadata": {
        "id": "f9ttJV1cv0An"
      },
      "source": [
        "list(df33.groupby('founder_education')['went_public_in_n_years'].mean().index)"
      ],
      "execution_count": null,
      "outputs": []
    },
    {
      "cell_type": "code",
      "metadata": {
        "id": "g4ZXFl1lxULu"
      },
      "source": [
        ""
      ],
      "execution_count": null,
      "outputs": []
    },
    {
      "cell_type": "markdown",
      "metadata": {
        "id": "oqP7zhppO1v9"
      },
      "source": [
        "Todo:\n",
        "1) Построить ROC кривые\n",
        "2) Построить PR кривые на одном графике.\n",
        "3) Приводим ROC-AUC, PR-AUC, F1 score, Accuracy.\n",
        "4) Гистограммы по возрастанию.\n",
        "5) Доверительные интервалы на гистограммах.\n",
        "6) Other на гистограммах другим цветом.\n",
        "7) Studet test, что для каждого региона процент успешных компаний выше среднего по выборке.\n",
        "8) Написать Сергею Иванову.\n",
        "9) lgbm feature importance\n",
        "10) Посмотреть размеры выборки, для которой доступна каждая доступная фича.\n",
        "11) GNN!!!\n"
      ]
    }
  ]
}